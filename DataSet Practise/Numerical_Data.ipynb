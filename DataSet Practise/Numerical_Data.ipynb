{
 "cells": [
  {
   "cell_type": "code",
   "execution_count": 2,
   "id": "8439e4e3-4fb3-4f25-a28e-1268717bb3a9",
   "metadata": {},
   "outputs": [
    {
     "name": "stderr",
     "output_type": "stream",
     "text": [
      "C:\\Users\\abdul\\AppData\\Local\\Temp\\ipykernel_9772\\619099675.py:11: FutureWarning: The 'delim_whitespace' keyword in pd.read_csv is deprecated and will be removed in a future version. Use ``sep='\\s+'`` instead\n",
      "  df = pd.read_csv(url, names=columns, delim_whitespace=True, na_values='?')\n"
     ]
    },
    {
     "name": "stdout",
     "output_type": "stream",
     "text": [
      "Initial shape: (398, 9)\n",
      "Missing values:\n",
      " mpg             0\n",
      "cylinders       0\n",
      "displacement    0\n",
      "horsepower      6\n",
      "weight          0\n",
      "acceleration    0\n",
      "model_year      0\n",
      "origin          0\n",
      "car_name        0\n",
      "dtype: int64\n",
      "Shape after dropping missing values: (392, 9)\n",
      "Mean Squared Error: 0.007576154664751017\n",
      "R² Score: 0.7901500386760345\n"
     ]
    }
   ],
   "source": [
    "import pandas as pd\n",
    "from sklearn.preprocessing import MinMaxScaler\n",
    "from sklearn.model_selection import train_test_split\n",
    "from sklearn.linear_model import LinearRegression\n",
    "from sklearn.metrics import mean_squared_error, r2_score\n",
    "\n",
    "# Step 1: Load Dataset\n",
    "url = \"http://archive.ics.uci.edu/ml/machine-learning-databases/auto-mpg/auto-mpg.data\"\n",
    "columns = ['mpg', 'cylinders', 'displacement', 'horsepower', 'weight', \n",
    "           'acceleration', 'model_year', 'origin', 'car_name']\n",
    "df = pd.read_csv(url, names=columns, delim_whitespace=True, na_values='?')\n",
    "\n",
    "# Step 2: Data Cleaning\n",
    "initial_shape = df.shape\n",
    "missing_values = df.isnull().sum()\n",
    "df_cleaned = df.dropna()\n",
    "after_drop_shape = df_cleaned.shape\n",
    "df_cleaned = df_cleaned.drop(columns=['car_name'])\n",
    "\n",
    "# Step 3: Normalize Data\n",
    "scaler = MinMaxScaler()\n",
    "normalized_data = scaler.fit_transform(df_cleaned)\n",
    "df_normalized = pd.DataFrame(normalized_data, columns=df_cleaned.columns)\n",
    "\n",
    "# Step 4: Train-Test Split\n",
    "X = df_normalized.drop(columns=['mpg'])\n",
    "y = df_normalized['mpg']\n",
    "X_train, X_test, y_train, y_test = train_test_split(X, y, test_size=0.2, random_state=42)\n",
    "\n",
    "# Step 5: Train Regression Model\n",
    "model = LinearRegression()\n",
    "model.fit(X_train, y_train)\n",
    "\n",
    "# Step 6: Evaluate Model\n",
    "y_pred = model.predict(X_test)\n",
    "mse = mean_squared_error(y_test, y_pred)\n",
    "r2 = r2_score(y_test, y_pred)\n",
    "\n",
    "# Output\n",
    "print(\"Initial shape:\", initial_shape)\n",
    "print(\"Missing values:\\n\", missing_values)\n",
    "print(\"Shape after dropping missing values:\", after_drop_shape)\n",
    "print(\"Mean Squared Error:\", mse)\n",
    "print(\"R² Score:\", r2)\n"
   ]
  },
  {
   "cell_type": "code",
   "execution_count": null,
   "id": "3b0473f8-6ceb-4431-989d-04692c30ff71",
   "metadata": {},
   "outputs": [],
   "source": []
  }
 ],
 "metadata": {
  "kernelspec": {
   "display_name": "Python [conda env:base] *",
   "language": "python",
   "name": "conda-base-py"
  },
  "language_info": {
   "codemirror_mode": {
    "name": "ipython",
    "version": 3
   },
   "file_extension": ".py",
   "mimetype": "text/x-python",
   "name": "python",
   "nbconvert_exporter": "python",
   "pygments_lexer": "ipython3",
   "version": "3.12.7"
  }
 },
 "nbformat": 4,
 "nbformat_minor": 5
}
