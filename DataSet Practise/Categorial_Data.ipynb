{
 "cells": [
  {
   "cell_type": "code",
   "execution_count": 2,
   "id": "88f60ad0-37f7-4f82-b5b3-561c57e95d94",
   "metadata": {},
   "outputs": [
    {
     "name": "stdout",
     "output_type": "stream",
     "text": [
      "Shape after cleaning: (712, 8)\n",
      "Accuracy: 0.7692307692307693\n"
     ]
    }
   ],
   "source": [
    "import pandas as pd\n",
    "import seaborn as sns\n",
    "from sklearn.model_selection import train_test_split\n",
    "from sklearn.preprocessing import LabelEncoder\n",
    "from sklearn.ensemble import RandomForestClassifier\n",
    "from sklearn.metrics import accuracy_score\n",
    "\n",
    "# Step 1: Load dataset\n",
    "df = sns.load_dataset(\"titanic\")\n",
    "\n",
    "# Step 2: Drop irrelevant and high-NaN columns\n",
    "df = df.drop(columns=[\"deck\", \"embark_town\", \"alive\", \"class\", \"who\", \"adult_male\", \"alone\"])\n",
    "\n",
    "# Step 3: Drop rows with missing values\n",
    "df = df.dropna()\n",
    "\n",
    "# Step 4: Encode categorical columns\n",
    "label_enc = LabelEncoder()\n",
    "df['sex'] = label_enc.fit_transform(df['sex'])  # male=1, female=0\n",
    "df['embarked'] = label_enc.fit_transform(df['embarked'])  # C, Q, S\n",
    "df['embarked'] = df['embarked'].astype(int)\n",
    "\n",
    "# Step 5: Select features and target\n",
    "X = df.drop(columns=['survived'])\n",
    "y = df['survived']\n",
    "\n",
    "# Step 6: Train-test split\n",
    "X_train, X_test, y_train, y_test = train_test_split(X, y, test_size=0.2, random_state=42)\n",
    "\n",
    "# Step 7: Train model\n",
    "model = RandomForestClassifier()\n",
    "model.fit(X_train, y_train)\n",
    "\n",
    "# Step 8: Evaluate\n",
    "y_pred = model.predict(X_test)\n",
    "acc = accuracy_score(y_test, y_pred)\n",
    "\n",
    "# Output\n",
    "print(\"Shape after cleaning:\", df.shape)\n",
    "print(\"Accuracy:\", acc)\n"
   ]
  },
  {
   "cell_type": "code",
   "execution_count": null,
   "id": "1a296ddd-2eb5-47bc-9c1f-a2282b8a84e2",
   "metadata": {},
   "outputs": [],
   "source": []
  }
 ],
 "metadata": {
  "kernelspec": {
   "display_name": "Python [conda env:base] *",
   "language": "python",
   "name": "conda-base-py"
  },
  "language_info": {
   "codemirror_mode": {
    "name": "ipython",
    "version": 3
   },
   "file_extension": ".py",
   "mimetype": "text/x-python",
   "name": "python",
   "nbconvert_exporter": "python",
   "pygments_lexer": "ipython3",
   "version": "3.12.7"
  }
 },
 "nbformat": 4,
 "nbformat_minor": 5
}
