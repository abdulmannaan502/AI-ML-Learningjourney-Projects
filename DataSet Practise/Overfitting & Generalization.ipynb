{
 "cells": [
  {
   "cell_type": "code",
   "execution_count": 2,
   "id": "727023cd-de1e-4090-80f6-bd0010f7c15c",
   "metadata": {},
   "outputs": [
    {
     "name": "stdout",
     "output_type": "stream",
     "text": [
      "Iris - Small Dataset:\n",
      "Accuracy: 0.6666666666666666\n",
      "Cross-Validation Score: 0.9333333333333332\n",
      "----------------------------------------\n",
      "Iris - Full Dataset:\n",
      "Accuracy: 1.0\n",
      "Cross-Validation Score: 0.96\n",
      "----------------------------------------\n",
      "Digits - Small Dataset:\n",
      "Accuracy: 0.8611111111111112\n",
      "Cross-Validation Score: 0.8882539682539683\n",
      "----------------------------------------\n",
      "Digits - Full Dataset:\n",
      "Accuracy: 0.975\n",
      "Cross-Validation Score: 0.937700402352213\n",
      "----------------------------------------\n"
     ]
    }
   ],
   "source": [
    "import pandas as pd\n",
    "from sklearn.datasets import load_iris, load_digits\n",
    "from sklearn.ensemble import RandomForestClassifier\n",
    "from sklearn.model_selection import train_test_split, cross_val_score\n",
    "from sklearn.metrics import accuracy_score\n",
    "\n",
    "# Function to test model on any dataset\n",
    "def evaluate_model(X, y, dataset_name):\n",
    "    # Small subset for overfitting example\n",
    "    X_small, _, y_small, _ = train_test_split(X, y, train_size=0.1, stratify=y, random_state=42)\n",
    "\n",
    "    for name, X_data, y_data in [(\"Small\", X_small, y_small), (\"Full\", X, y)]:\n",
    "        X_train, X_test, y_train, y_test = train_test_split(X_data, y_data, test_size=0.2, random_state=42)\n",
    "        model = RandomForestClassifier()\n",
    "        model.fit(X_train, y_train)\n",
    "        y_pred = model.predict(X_test)\n",
    "        acc = accuracy_score(y_test, y_pred)\n",
    "        cv_score = cross_val_score(model, X_data, y_data, cv=5).mean()\n",
    "        print(f\"{dataset_name} - {name} Dataset:\")\n",
    "        print(\"Accuracy:\", acc)\n",
    "        print(\"Cross-Validation Score:\", cv_score)\n",
    "        print(\"-\" * 40)\n",
    "\n",
    "# Iris Dataset\n",
    "iris = load_iris()\n",
    "evaluate_model(iris.data, iris.target, \"Iris\")\n",
    "\n",
    "# Digits Dataset\n",
    "digits = load_digits()\n",
    "evaluate_model(digits.data, digits.target, \"Digits\")\n"
   ]
  },
  {
   "cell_type": "code",
   "execution_count": null,
   "id": "3889c534-4ee0-4def-9856-1bde2ff04141",
   "metadata": {},
   "outputs": [],
   "source": []
  }
 ],
 "metadata": {
  "kernelspec": {
   "display_name": "Python [conda env:base] *",
   "language": "python",
   "name": "conda-base-py"
  },
  "language_info": {
   "codemirror_mode": {
    "name": "ipython",
    "version": 3
   },
   "file_extension": ".py",
   "mimetype": "text/x-python",
   "name": "python",
   "nbconvert_exporter": "python",
   "pygments_lexer": "ipython3",
   "version": "3.12.7"
  }
 },
 "nbformat": 4,
 "nbformat_minor": 5
}
