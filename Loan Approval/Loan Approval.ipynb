{
 "cells": [
  {
   "cell_type": "markdown",
   "id": "3ec39b60-69a2-48ff-bb3c-e7be4d9cd9a2",
   "metadata": {},
   "source": [
    "# Predict Loan Approval"
   ]
  },
  {
   "cell_type": "code",
   "execution_count": 5,
   "id": "df98a664-ac0d-452f-bd99-212de0d8b025",
   "metadata": {},
   "outputs": [],
   "source": [
    "#Step 0: Install & Import Libraries\n",
    "import pandas as pd\n",
    "import numpy as np\n",
    "import matplotlib.pyplot as plt\n",
    "import seaborn as sns\n",
    "\n",
    "from sklearn.model_selection import train_test_split, cross_val_score\n",
    "from sklearn.preprocessing import LabelEncoder, StandardScaler\n",
    "from sklearn.linear_model import LogisticRegression, Ridge, Lasso, LinearRegression\n",
    "from sklearn.ensemble import RandomForestClassifier\n",
    "from sklearn.metrics import accuracy_score, confusion_matrix, classification_report, mean_squared_error, r2_score"
   ]
  },
  {
   "cell_type": "code",
   "execution_count": 15,
   "id": "a43c25fb-c3f2-4356-93b1-199f724ac7e0",
   "metadata": {},
   "outputs": [
    {
     "name": "stdout",
     "output_type": "stream",
     "text": [
      "    Loan_ID Gender Married  Dependents     Education Self_Employed  \\\n",
      "0  LP001002   Male     Yes           0      Graduate            No   \n",
      "1  LP001003   Male     Yes           1      Graduate            No   \n",
      "2  LP001005   Male     Yes           0      Graduate           Yes   \n",
      "3  LP001006   Male      No           0  Not Graduate            No   \n",
      "4  LP001008   Male     Yes           0      Graduate            No   \n",
      "\n",
      "   ApplicantIncome  CoapplicantIncome  LoanAmount  Loan_Amount_Term  \\\n",
      "0             5849                0.0         128             360.0   \n",
      "1             4583             1508.0         128             360.0   \n",
      "2             3000                0.0          66             360.0   \n",
      "3             2583             2358.0         120             360.0   \n",
      "4             6000                0.0         141             360.0   \n",
      "\n",
      "   Credit_History Property_Area Loan_Status  \n",
      "0             1.0         Urban           Y  \n",
      "1             1.0         Rural           N  \n",
      "2             1.0         Urban           Y  \n",
      "3             1.0         Urban           Y  \n",
      "4             1.0         Urban           Y  \n",
      "<class 'pandas.core.frame.DataFrame'>\n",
      "RangeIndex: 19 entries, 0 to 18\n",
      "Data columns (total 13 columns):\n",
      " #   Column             Non-Null Count  Dtype  \n",
      "---  ------             --------------  -----  \n",
      " 0   Loan_ID            19 non-null     object \n",
      " 1   Gender             19 non-null     object \n",
      " 2   Married            19 non-null     object \n",
      " 3   Dependents         19 non-null     int64  \n",
      " 4   Education          19 non-null     object \n",
      " 5   Self_Employed      19 non-null     object \n",
      " 6   ApplicantIncome    19 non-null     int64  \n",
      " 7   CoapplicantIncome  19 non-null     float64\n",
      " 8   LoanAmount         19 non-null     int64  \n",
      " 9   Loan_Amount_Term   19 non-null     float64\n",
      " 10  Credit_History     19 non-null     float64\n",
      " 11  Property_Area      19 non-null     object \n",
      " 12  Loan_Status        19 non-null     object \n",
      "dtypes: float64(3), int64(3), object(7)\n",
      "memory usage: 2.1+ KB\n",
      "None\n"
     ]
    }
   ],
   "source": [
    "#Load the Dataset\n",
    "df = pd.read_csv('loan_data.csv')  # Replace with your actual file name\n",
    "print(df.head())\n",
    "print(df.info())"
   ]
  },
  {
   "cell_type": "code",
   "execution_count": 17,
   "id": "a5e443b3-bfcf-45f2-bb52-65802628679a",
   "metadata": {},
   "outputs": [
    {
     "name": "stderr",
     "output_type": "stream",
     "text": [
      "C:\\Users\\abdul\\AppData\\Local\\Temp\\ipykernel_11084\\4230096596.py:6: FutureWarning: A value is trying to be set on a copy of a DataFrame or Series through chained assignment using an inplace method.\n",
      "The behavior will change in pandas 3.0. This inplace method will never work because the intermediate object on which we are setting values always behaves as a copy.\n",
      "\n",
      "For example, when doing 'df[col].method(value, inplace=True)', try using 'df.method({col: value}, inplace=True)' or df[col] = df[col].method(value) instead, to perform the operation inplace on the original object.\n",
      "\n",
      "\n",
      "  df[col].fillna(df[col].mode()[0], inplace=True)\n",
      "C:\\Users\\abdul\\AppData\\Local\\Temp\\ipykernel_11084\\4230096596.py:6: FutureWarning: A value is trying to be set on a copy of a DataFrame or Series through chained assignment using an inplace method.\n",
      "The behavior will change in pandas 3.0. This inplace method will never work because the intermediate object on which we are setting values always behaves as a copy.\n",
      "\n",
      "For example, when doing 'df[col].method(value, inplace=True)', try using 'df.method({col: value}, inplace=True)' or df[col] = df[col].method(value) instead, to perform the operation inplace on the original object.\n",
      "\n",
      "\n",
      "  df[col].fillna(df[col].mode()[0], inplace=True)\n",
      "C:\\Users\\abdul\\AppData\\Local\\Temp\\ipykernel_11084\\4230096596.py:9: FutureWarning: A value is trying to be set on a copy of a DataFrame or Series through chained assignment using an inplace method.\n",
      "The behavior will change in pandas 3.0. This inplace method will never work because the intermediate object on which we are setting values always behaves as a copy.\n",
      "\n",
      "For example, when doing 'df[col].method(value, inplace=True)', try using 'df.method({col: value}, inplace=True)' or df[col] = df[col].method(value) instead, to perform the operation inplace on the original object.\n",
      "\n",
      "\n",
      "  df['LoanAmount'].fillna(df['LoanAmount'].median(), inplace=True)\n",
      "C:\\Users\\abdul\\AppData\\Local\\Temp\\ipykernel_11084\\4230096596.py:10: FutureWarning: A value is trying to be set on a copy of a DataFrame or Series through chained assignment using an inplace method.\n",
      "The behavior will change in pandas 3.0. This inplace method will never work because the intermediate object on which we are setting values always behaves as a copy.\n",
      "\n",
      "For example, when doing 'df[col].method(value, inplace=True)', try using 'df.method({col: value}, inplace=True)' or df[col] = df[col].method(value) instead, to perform the operation inplace on the original object.\n",
      "\n",
      "\n",
      "  df['Loan_Amount_Term'].fillna(df['Loan_Amount_Term'].median(), inplace=True)\n"
     ]
    }
   ],
   "source": [
    "#Data Cleaning\n",
    "df.dropna(subset=['Loan_Status'], inplace=True)\n",
    "\n",
    "# Fill missing categorical with mode\n",
    "for col in ['Gender', 'Married', 'Dependents', 'Self_Employed', 'Credit_History']:\n",
    "    df[col].fillna(df[col].mode()[0], inplace=True)\n",
    "\n",
    "# Fill missing numerical with median\n",
    "df['LoanAmount'].fillna(df['LoanAmount'].median(), inplace=True)\n",
    "df['Loan_Amount_Term'].fillna(df['Loan_Amount_Term'].median(), inplace=True)"
   ]
  },
  {
   "cell_type": "code",
   "execution_count": 19,
   "id": "49dec64b-25fa-4384-90ad-bfee44999d31",
   "metadata": {},
   "outputs": [],
   "source": [
    "#Encoding\n",
    "# Label Encoding for binary categories\n",
    "le = LabelEncoder()\n",
    "for col in ['Gender', 'Married', 'Education', 'Self_Employed', 'Loan_Status']:\n",
    "    df[col] = le.fit_transform(df[col])\n",
    "\n",
    "# One-hot Encoding for 'Property_Area' and 'Dependents'\n",
    "df = pd.get_dummies(df, columns=['Property_Area', 'Dependents'], drop_first=True)"
   ]
  },
  {
   "cell_type": "code",
   "execution_count": null,
   "id": "f5bec4b8-e4d1-47ad-9eaf-be7ae0176a5d",
   "metadata": {},
   "outputs": [],
   "source": [
    "#Classification Model\n"
   ]
  }
 ],
 "metadata": {
  "kernelspec": {
   "display_name": "Python [conda env:base] *",
   "language": "python",
   "name": "conda-base-py"
  },
  "language_info": {
   "codemirror_mode": {
    "name": "ipython",
    "version": 3
   },
   "file_extension": ".py",
   "mimetype": "text/x-python",
   "name": "python",
   "nbconvert_exporter": "python",
   "pygments_lexer": "ipython3",
   "version": "3.12.7"
  }
 },
 "nbformat": 4,
 "nbformat_minor": 5
}
